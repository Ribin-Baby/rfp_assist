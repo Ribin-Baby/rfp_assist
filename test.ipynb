{
 "cells": [
  {
   "cell_type": "code",
   "execution_count": 1,
   "id": "4e78bd18",
   "metadata": {},
   "outputs": [
    {
     "name": "stderr",
     "output_type": "stream",
     "text": [
      "/home/ubuntu/.venv/lib/python3.12/site-packages/tqdm/auto.py:21: TqdmWarning: IProgress not found. Please update jupyter and ipywidgets. See https://ipywidgets.readthedocs.io/en/stable/user_install.html\n",
      "  from .autonotebook import tqdm as notebook_tqdm\n"
     ]
    },
    {
     "data": {
      "text/plain": [
       "True"
      ]
     },
     "execution_count": 1,
     "metadata": {},
     "output_type": "execute_result"
    }
   ],
   "source": [
    "import logging, os, time\n",
    "from typing import List\n",
    "import json\n",
    "# from nv_ingest.framework.orchestration.ray.util.pipeline.pipeline_runners import run_pipeline\n",
    "# from nv_ingest.framework.orchestration.ray.util.pipeline.pipeline_runners import PipelineCreationSchema\n",
    "from nv_ingest_api.util.logging.configuration import configure_logging as configure_local_logging\n",
    "from nv_ingest_client.client import Ingestor, NvIngestClient\n",
    "from langchain_nvidia_ai_endpoints import NVIDIAEmbeddings\n",
    "from app.services.ingester import get_nv_ingest_client\n",
    "from app.services.extractor import extract_entities_llm\n",
    "from app.utils.vectorstore import (create_collections, create_metadata_schema_collection, \n",
    "                                   add_metadata_schema, get_collection, get_vectorstore, delete_collections,\n",
    "                                    add_schema, init_collection, collection_exists)\n",
    "from app.utils.common import get_config\n",
    "from app.domain.common import COLL\n",
    "from dotenv import load_dotenv\n",
    "load_dotenv()"
   ]
  },
  {
   "cell_type": "code",
   "execution_count": 2,
   "id": "4101931f",
   "metadata": {},
   "outputs": [],
   "source": [
    "\n",
    "# Initialize global objects\n",
    "logger = logging.getLogger(__name__)\n",
    "\n",
    "CONFIG = get_config()\n",
    "NV_INGEST_CLIENT_INSTANCE = get_nv_ingest_client()\n",
    "DOCUMENT_EMBEDDER = document_embedder = NVIDIAEmbeddings(base_url=os.getenv(\"EMBEDDING_NIM_ENDPOINT\"), model=os.getenv(\"EMBEDDING_MODEL_NAME\"),  dimensions=CONFIG.embeddings.dimensions, truncate=\"END\")\n",
    "# NV-Ingest Batch Mode Configuration\n",
    "ENABLE_NV_INGEST_BATCH_MODE = os.getenv(\"ENABLE_NV_INGEST_BATCH_MODE\", \"true\").lower() == \"true\"\n",
    "NV_INGEST_FILES_PER_BATCH = int(os.getenv(\"NV_INGEST_FILES_PER_BATCH\", 16))\n",
    "ENABLE_NV_INGEST_PARALLEL_BATCH_MODE = os.getenv(\"ENABLE_NV_INGEST_PARALLEL_BATCH_MODE\", \"true\").lower() == \"true\"\n",
    "NV_INGEST_CONCURRENT_BATCHES = int(os.getenv(\"NV_INGEST_CONCURRENT_BATCHES\", 4))\n",
    "\n",
    "split_options = {\"chunk_size\": 6144, \"chunk_overlap\": 248}\n",
    "collection_name = \"multimodal_data\""
   ]
  },
  {
   "cell_type": "code",
   "execution_count": 3,
   "id": "040c984d",
   "metadata": {},
   "outputs": [
    {
     "name": "stderr",
     "output_type": "stream",
     "text": [
      "`paddle_output_format` is deprecated and will be removed in a future release. Please use `table_output_format` instead.\n",
      "Processing: 100%|██████████| 1/1 [00:04<00:00,  4.95s/doc]\n"
     ]
    }
   ],
   "source": [
    "ingestor = Ingestor(client=NV_INGEST_CLIENT_INSTANCE)\n",
    "# Add files to ingestor\n",
    "filepaths = [\"/home/ubuntu/projects/datas/rfi for cloud adoption.pdf\"]\n",
    "ingestor = ingestor.files(filepaths)\n",
    "# Create kwargs for extract method\n",
    "extract_kwargs = {\n",
    "    \"extract_text\": True,\n",
    "    \"extract_infographics\": False,\n",
    "    \"extract_tables\": True,\n",
    "    \"extract_charts\": False,\n",
    "    \"extract_images\": False,\n",
    "    \"extract_method\": \"pdfium\", #config.nv_ingest.pdf_extract_method, Literal['pdfium','nemoretriever_parse','None']\n",
    "    \"text_depth\": CONFIG.nv_ingest.text_depth,\n",
    "    \"paddle_output_format\": \"markdown\", #Literal['markdown','html','text']\n",
    "    # \"extract_audio_params\": {\"segment_audio\": True} # TODO: Uncomment this when audio segmentation to be enabled\n",
    "}\n",
    "ingestor = ingestor.extract(**extract_kwargs)\n",
    "\n",
    "split_source_types = [\"text\", \"html\"]\n",
    "split_source_types = [\"PDF\"] + split_source_types if CONFIG.nv_ingest.enable_pdf_splitter else split_source_types\n",
    "logger.info(f\"Post chunk split status: {CONFIG.nv_ingest.enable_pdf_splitter}. Splitting by: {split_source_types}\")\n",
    "ingestor = ingestor.split(\n",
    "                tokenizer=CONFIG.nv_ingest.tokenizer,\n",
    "                chunk_size=split_options.get(\"chunk_size\", CONFIG.nv_ingest.chunk_size),\n",
    "                chunk_overlap=split_options.get(\"chunk_overlap\", CONFIG.nv_ingest.chunk_overlap),\n",
    "                params={\"split_source_types\": split_source_types}\n",
    "            )\n",
    "\n",
    "results, failures = ingestor.ingest(return_failures=True, show_progress=True)\n",
    "\n",
    "# results blob is directly inspectable\n",
    "# print(ingest_json_results_to_blob(results[0]))\n",
    "\n",
    "# (optional) Review any failures that were returned\n",
    "if failures:\n",
    "    print(f\"There were {len(failures)} failures. Sample: {failures[0]}\")"
   ]
  },
  {
   "cell_type": "code",
   "execution_count": 4,
   "id": "fc2b7886",
   "metadata": {},
   "outputs": [
    {
     "name": "stdout",
     "output_type": "stream",
     "text": [
      "True\n"
     ]
    }
   ],
   "source": [
    "# initialise collections and metadata schema\n",
    "init_collection(collections=COLL, embed_dimension=CONFIG.embeddings.dimensions, vdb_endpoint=CONFIG.vector_store.url)\n",
    "\n",
    "# initialise vector store objects for each collections\n",
    "vs_chunks        = get_vectorstore(document_embedder, collection_name=COLL[\"chunks\"],        vdb_endpoint=CONFIG.vector_store.url)\n",
    "vs_requirements  = get_vectorstore(document_embedder, collection_name=COLL[\"requirements\"],  vdb_endpoint=CONFIG.vector_store.url)\n",
    "vs_criteria      = get_vectorstore(document_embedder, collection_name=COLL[\"criteria\"],      vdb_endpoint=CONFIG.vector_store.url)\n",
    "vs_contacts      = get_vectorstore(document_embedder, collection_name=COLL[\"contacts\"],      vdb_endpoint=CONFIG.vector_store.url)\n",
    "vs_deadlines     = get_vectorstore(document_embedder, collection_name=COLL[\"deadlines\"],     vdb_endpoint=CONFIG.vector_store.url)\n",
    "vs_tech          = get_vectorstore(document_embedder, collection_name=COLL[\"technologies\"],  vdb_endpoint=CONFIG.vector_store.url)\n",
    "vs_std           = get_vectorstore(document_embedder, collection_name=COLL[\"standards\"],     vdb_endpoint=CONFIG.vector_store.url)\n",
    "vs_org           = get_vectorstore(document_embedder, collection_name=COLL[\"organizations\"], vdb_endpoint=CONFIG.vector_store.url)"
   ]
  },
  {
   "cell_type": "code",
   "execution_count": 5,
   "id": "e66d1fc2",
   "metadata": {},
   "outputs": [
    {
     "name": "stderr",
     "output_type": "stream",
     "text": [
      "extracting entities:: 100%|██████████| 28/28 [09:36<00:00, 20.58s/doc]"
     ]
    },
    {
     "name": "stdout",
     "output_type": "stream",
     "text": [
      "Error processing chunk: list index out of range\n",
      "Error processing chunk: list index out of range\n",
      "Error processing chunk: list index out of range\n",
      "Error processing chunk: list index out of range\n",
      "Error processing chunk: list index out of range\n",
      "Error processing chunk: list index out of range\n",
      "{'document_type': 'RFI', 'document_title': 'Request for Information (RFI) for Public and Hybrid Cloud Adoption for hosting applications on Infrastructure of Cloud Service Provider', 'issue_date': '2022-12-14', 'deadlines': [{'date': '2022-12-28'}], 'client_organization': 'Union Bank of India, Department of Information Technology', 'client_industry': 'Public Sector Bank', 'contacts': [{'name': 'Nandan Valera', 'title': None, 'email': 'nandan.v@eptl.in', 'phone': '9081000427'}, {'name': 'Fahad Khan', 'title': None, 'email': 'fahad@eptl.in', 'phone': '9904406300'}, {'name': 'Shaikh Nasruddin', 'title': None, 'email': 'shaikh@eptl.in', 'phone': '9510812960'}, {'name': 'Ashutosh Gaur', 'title': None, 'email': 'ashutoshgaur@unionbankofindia.bank', 'phone': None}, {'name': 'Rajesh Kumar', 'title': None, 'email': 'rajeshkr@unionbankofindia.bank', 'phone': None}, {'name': 'Kislay Sinha', 'title': None, 'email': 'kislaysinha@unionbankofindia.com', 'phone': None}], 'project_scope': None, 'contract_term': None, 'submission_method': 'online', 'evaluation_criteria': [{'criterion': 'Managed Service Provider must submit an authorization letter from the Cloud Service Provider authorizing to participate in this RFI.'}, {'criterion': 'The companies or firms, bidding for the above tender, should have not been black listed by any of Government Authority or Public Sector Undertaking (PSUs).'}, {'criterion': 'Proposed public/Hybrid cloud offerings should be complied with RBI & MEITY recommendations.'}, {'criterion': 'Interested partners should provide complete details regarding framework, methodologies, areas covered, deliverables associated and redesigning of client model for cloud readiness assessments.'}, {'criterion': 'Interested partners should describe about migration option (rehost, refactor, rewrite), migration planning, migration testing, tools used to analyze and plan migration etc.'}, {'criterion': 'Describe the overview of managed services for creation, deletion, modification and orchestration of cloud assets.'}, {'criterion': 'Interested partners should specify the services to track and report about the availability, health and performance of deployed infrastructure. Leveraging monitoring and analytic capabilities to initiate self-healing & automation.'}, {'criterion': 'Partners should describe the services to optimize the use of cloud capacity to support reliable and cost-efficient operations. Services should include aspects of capacity planning and demand management in addition to optimization of existing capacity.'}, {'criterion': 'Partners should describe compete costing model, how cloud service providers charges for the offered services, also about the existing capabilities for monitoring cloud cost, including availability of metering functionality. Also describe about customer live access to current and historical information and alerting functionality offered. Specify the measures to be taken by the bank for cost optimization.'}, {'criterion': 'Partner should describe about the backup services related to protecting data of the Bank, including the granularity of backup and availability of recovery options.'}, {'criterion': 'Partner should describe the services offered for disaster recovery, self service capabilities and the RPO and RTO service levels associated with CSP’s'}, {'criterion': 'Partners should provide the details of services to protect cloud environment from security threats. Partners should provide complete IT Security Services offered by the CSP’s and how Bank can avail those services to secure their environment.'}, {'criterion': 'Partners should provide the extent to which management capabilities are provided to address customers hybrid requirements, identity and access management solutions, workloads and infrastructure in On-Premise and hosted solutions, customer wide area network etc.'}, {'criterion': 'Partners should describe about any implication that using your managed services has on customer’s ability to directly engaged with the CSP’s. Support agreement between MSP & CSP to ensure 2nd and 3rd tier incident and support resolution and any other agreements that you have.'}, {'criterion': 'Interested Cloud Service Provider’s partners should provide complete details of the CSP’s platform and various services offered by the CSP.'}, {'criterion': 'Provide a high-level overview description of the cloud management platform and/or integrated tooling used to deliver services. Include narrative that helps explain which CMP components are provided by third parties.'}, {'criterion': 'The interested partner should provide the complete network details and networking requirement (how data flow within the CSP, network connection between CSP and Bank Premises, network diagram etc.) for the Bank, for onboarding the applications on the CSP’s platform.'}, {'criterion': 'Partners should provide the process how various logs are stored, Secured and analyzed based on the Bank’s requirements.'}, {'criterion': 'Partners should provide the details of Accreditations/Certifications of Cloud Server Provider. The complete business profile of the CSPs like how long in cloud service business, core strength of CSP in cloud services'}, {'criterion': 'Landing Zone creation with estimated cost and time involved.'}, {'criterion': 'Exit clause including agreed process and turnaround time for exit, data completeness and portability, secure purge of Bank’s information, smooth transition of services, monitoring the ongoing design of application and service delivery technology stack the exit plans align with and details of how cloud hosted services and data will moved out from the cloud with minimal impact on continuity of the Bank’s business.'}, {'criterion': 'The bidder must undertake that they shall hold in trust any Information received by them, under the Contract/Agreement, and the strictest of confidence shall be maintained in respect of such Information. The bidder has also to agree: 10.1. To maintain and use the Information only for the purposes of the Contract/Agreement and only as permitted by the BANK; 10.2. To only make copies as specifically authorized by the prior written consent of the Bank and with the same confidential or proprietary notices as may be printed or displayed on the original'}], 'pricing_structure': 'costing model and other relevant details and information for the CSPs infrastructure like security and network architecture, infrastructure details etc for subscribing Infrastructure as a Service (IaaS) on VMware Cloud on any CSP Infrastructure', 'requirements': ['The bidder shall give an undertaking (on their letter head) that they have not been black listed by any of the Govt. Authority or PSUs.', 'Interested partners should provide complete details regarding framework, methodologies, areas covered, deliverables associated and redesigning of client model for cloud readiness assessments.', 'Interested partners should describe about migration option (rehost, refactor, rewrite), migration planning, migration testing, tools used to analyze and plan migration etc.', 'Describe the overview of managed services for creation, deletion, modification and orchestration of cloud assets.', 'Interested partners should specify the services to track and report about the availability, health and performance of deployed infrastructure. Leveraging monitoring and analytic capabilities to initiate self-healing & automation.', 'Partners should describe the services to optimize the use of cloud capacity to support reliable and cost-efficient operations. Services should include aspects of capacity planning and demand management in addition to optimization of existing capacity.', 'Partners should describe compete costing model, how cloud service providers charges for the offered services, also about the existing capabilities for monitoring cloud cost, including availability of metering functionality. Also describe about customer live access to current and historical information and alerting functionality offered. Specify the measures to be taken by the bank for cost optimization.', 'Partner should describe about the backup services related to protecting data of the Bank, including the granularity of backup and availability of recovery options.', 'Partner should describe the services offered for disaster recovery, self service capabilities and the RPO and RTO service levels associated with CSP’s', 'Partners should provide the details of services to protect cloud environment from security threats. Partners should provide complete IT Security Services offered by the CSP’s and how Bank can avail those services to secure their environment.', 'Partners should provide the extent to which management capabilities are provided to address customers hybrid requirements, identity and access management solutions, workloads and infrastructure in On-Premise and hosted solutions, customer wide area network etc.', 'Partners should describe about any implication that using your managed services has on customer’s ability to directly engaged with the CSP’s. Support agreement between MSP & CSP to ensure 2nd and 3rd tier incident and support resolution and any other agreements that you have.', 'Interested Cloud Service Provider’s partners should provide complete details of the CSP’s platform and various services offered by the CSP.', 'Provide a high-level overview description of the cloud management platform and/or integrated tooling used to deliver services. Include narrative that helps explain which CMP components are provided by third parties.', 'The interested partner should provide the complete network details and networking requirement (how data flow within the CSP, network connection between CSP and Bank Premises, network diagram etc.) for the Bank, for onboarding the applications on the CSP’s platform.', 'Partners should provide the process how various logs are stored, Secured and analyzed based on the Bank’s requirements.', 'Partners should provide the details of Accreditations/Certifications of Cloud Server Provider. The complete business profile of the CSPs like how long in cloud service business, core strength of CSP in cloud services', 'Landing Zone creation with estimated cost and time involved.', 'Exit clause including agreed process and turnaround time for exit, data completeness and portability, secure purge of Bank’s information, smooth transition of services, monitoring the ongoing design of application and service delivery technology stack the exit plans align with and details of how cloud hosted services and data will moved out from the cloud with minimal impact on continuity of the Bank’s business.', 'The bidder must undertake that they shall hold in trust any Information received by them, under the Contract/Agreement, and the strictest of confidence shall be maintained in respect of such Information. The bidder has also to agree: 10.1. To maintain and use the Information only for the purposes of the Contract/Agreement and only as permitted by the BANK; 10.2. To only make copies as specifically authorized by the prior written consent of the Bank and with the same confidential or proprietary notices as may be printed or displayed on the original'], 'keywords': ['Cloud Adoption', 'Public Cloud', 'Hybrid Cloud', 'Infrastructure as a Service (IaaS)', 'VMware Cloud', 'Banking Applications', 'Cloud Readiness Assessments', 'Workload Migration Planning', 'Provisioning, Orchestration and Automation', 'Monitoring and Analytics', 'Capacity Optimization', 'Cost Monitoring', 'Backup and Recovery', 'Disaster Recovery', 'Configuration Management', 'Securing the Cloud Environment', 'Hybrid Management, and Customer Infrastructure Integration Services', 'Cloud Provider technical support', 'Cloud Service Providers Platform', 'Cloud Management Platform', 'Networking', 'Log Analysis', 'Accreditations/Certification and Business Profile', 'Landing Zone'], 'compliance_standards': ['RBI', 'MEITY', 'Configuration Management', 'Securing the Cloud Environment', 'Hybrid Management, and Customer Infrastructure Integration Services', 'Cloud Provider technical support', 'Cloud Service Providers Platform', 'Cloud Management Platform', 'Networking', 'Log Analysis', 'Accreditations/Certification and Business Profile', 'PCI-DSS', 'Cert-IN', 'ISO']}\n"
     ]
    },
    {
     "name": "stderr",
     "output_type": "stream",
     "text": [
      "\n"
     ]
    }
   ],
   "source": [
    "# extract entities using LLM\n",
    "json_outs, documents = extract_entities_llm(results)\n",
    "print(json_outs)\n",
    "# print(documents)"
   ]
  },
  {
   "cell_type": "code",
   "execution_count": null,
   "id": "578e93e8",
   "metadata": {},
   "outputs": [],
   "source": [
    "# vs_chunks.add_documents(documents)"
   ]
  },
  {
   "cell_type": "code",
   "execution_count": 9,
   "id": "fc5fa73f",
   "metadata": {},
   "outputs": [
    {
     "name": "stdout",
     "output_type": "stream",
     "text": [
      "[Document(metadata={'pk': 461506363148960165, 'source': '/home/ubuntu/projects/datas/rfi for cloud adoption.pdf', 'content_metadata': {'source_type': 'PDF', 'content_metadata': {'type': 'text', 'description': 'Unstructured text from PDF document.', 'page_number': 2, 'hierarchy': {'page_count': 22, 'page': 2, 'block': -1, 'line': -1, 'span': -1, 'nearby_objects': {'text': {'content': [], 'bbox': [], 'type': []}, 'images': {'content': [], 'bbox': [], 'type': []}, 'structured': {'content': [], 'bbox': [], 'type': []}}}, 'subtype': ''}}}, page_content='RFI for Cloud Adoption\\r\\nClassification: Internal 2 | 21\\r\\nGENERAL INSTRUCTIONS TO BIDDERS\\r\\nAll bidders must note that this being E-tender, bids received only through online on E-tendering \\r\\nportal https://ubi.abcprocure.comshall be considered as an offer. Any bid submitted in \\r\\nphysical form will not be received or opened and shall be summarily rejected.\\r\\nProcedure for submission of E-tender by bidder:\\r\\nInterested bidders who wish to participate should visit website https://ubi.abcprocure.com\\r\\nwhich is the ONLY website for bidding their offer. Further, the procedure is as follows:\\r\\n1. Register your company in website https://ubi.abcprocure.com for obtaining a Login ID \\r\\nand Password.\\r\\n2. Using the login ID, password and digital signature, login in to the tender portal to \\r\\ndownload the tender document. It is mandatory for the Bidders to have a valid Digital \\r\\nSignature Certificate – Signing and Encryption (Class – II or Class – III) issued by any of \\r\\nthe valid Certifying Authority approved by Govt. of India as per IT Act, 2000. DSC on \\r\\nOrganization name is required, if bidder want to participate on behalf of his/her \\r\\nCompany.\\r\\n3. Upload supporting documents by clicking “Mapped Documents”. Then submit the tender. \\r\\nTake a print screen of “Bid successfully submitted” message for reference.\\r\\n4. Primary Contact Numbers:-+91-9081000427,9904406300, email id: \\r\\nsupport@procuretiger.com\\r\\n5. Alternate Contact Details.:-\\r\\na) Nandan Valera email: nandan.v@eptl.in Mob: 9081000427 \\r\\nb) Fahad Khan email: fahad@eptl.in Mob: 9904406300\\r\\nc) Shaikh Nasruddin email: shaikh@eptl.in Mob: 9510812960\\r\\n6. System requirement for online bid submission: \\r\\na. Computer / Laptop (Notebook) with internet connection of minimum 256 kbps \\r\\nspeed.\\r\\nb. Operating system - Windows XP Service pack -3 / VISTA/ Windows 7 or above.\\r\\n7. Bidder must submit the offer before online closing date & time. The website will \\r\\nautomatically stop accepting the offer after online closing date and time.\\r\\nE-tendering Helpline no: 079-61200566/567/579/580/569/566/591 Email ID: \\r\\nsupport@auctiontiger.net\\r\\nPlease note that bids submitted through offline will not be accepted. Bids must be submitted \\r\\nonly through online at the portal mentioned above\\n'), Document(metadata={'pk': 461506363148960174, 'source': '/home/ubuntu/projects/datas/rfi for cloud adoption.pdf', 'content_metadata': {'source_type': 'PDF', 'content_metadata': {'type': 'text', 'description': 'Unstructured text from PDF document.', 'page_number': 11, 'hierarchy': {'page_count': 22, 'page': 11, 'block': -1, 'line': -1, 'span': -1, 'nearby_objects': {'text': {'content': [], 'bbox': [], 'type': []}, 'images': {'content': [], 'bbox': [], 'type': []}, 'structured': {'content': [], 'bbox': [], 'type': []}}}, 'subtype': ''}}}, page_content='RFI for Cloud Adoption\\r\\nClassification: Internal 11 | 21\\r\\n10.3. To restrict access and disclosure of Information to such of their employees, \\r\\nagents, strictly on a \"need to know\" basis, to maintain confidentiality of \\r\\nthe Information disclosed to them in accordance with this Clause and\\r\\n10.4. To treat all Information as Confidential Information.\\r\\n11. Arbitration\\r\\nAll disputes and differences of any kind whatsoever arising out of or in \\r\\nconnection with the purchase order shall be referred to arbitration. The \\r\\narbitrator may be appointed by both the parties or in case of disagreement each \\r\\nparty may appoint an arbitrator and such arbitrators shall appoint an Umpire \\r\\nbefore entering on the reference. The decision of the Umpire shall be final. \\r\\nSuch arbitration shall be governed by the provisions of Indian Arbitration and \\r\\nConciliation Act 1996. All arbitration proceedings shall be at Mumbai, \\r\\nMaharashtra State, India only.\\r\\n12. Dispute Resolution & Jurisdiction\\r\\nNotwithstanding anything contained herein above, in case of any dispute, claim \\r\\nand legal action arising out of this RFI, the parties shall be subject to the \\r\\njurisdiction of courts at Mumbai, Maharashtra State, India only. Law of India \\r\\nwill be applicable for Dispute Resolution.\\r\\n13. Submission of Bids\\r\\nThe bidders have to submit bid through Online at the e-procurement portal. Bidders are to\\r\\nupload documents on the site https://ubi.abcprocure.com.\\r\\nBank may, at its discretion, extend this deadline for submission of bids by releasing \\r\\ncorrigendum to this tender document\\n'), Document(metadata={'pk': 461506363148960173, 'source': '/home/ubuntu/projects/datas/rfi for cloud adoption.pdf', 'content_metadata': {'source_type': 'PDF', 'content_metadata': {'type': 'text', 'description': 'Unstructured text from PDF document.', 'page_number': 10, 'hierarchy': {'page_count': 22, 'page': 10, 'block': -1, 'line': -1, 'span': -1, 'nearby_objects': {'text': {'content': [], 'bbox': [], 'type': []}, 'images': {'content': [], 'bbox': [], 'type': []}, 'structured': {'content': [], 'bbox': [], 'type': []}}}, 'subtype': ''}}}, page_content='RFI for Cloud Adoption\\r\\nClassification: Internal 10 | 21\\r\\n7.9. The Bank is not responsible for any assumptions or judgments made by the \\r\\nparticipant for proposing the deliverables.\\r\\n7.10. Physical document is to be submitted with a covering letter enclosing/ \\r\\ndocuments/ information indicated above the declaration, signed by the \\r\\nauthorized signatory with the seal of the company at the address mention \\r\\nin point no. -8. All pages are required to be signed. \\r\\n7.11. Interested Managed Service Provider must partner with leading Cloud \\r\\nService Provider who must offer all the service models such as IaaS, PaaS\\r\\nand SaaS. \\r\\n8. Technical Offer\\r\\n8.1.The Technical Bid should contain all information asked for in this document. It \\r\\nshould not contain any price information and should be submitted online at the \\r\\ne-procurement site https://ubi.abcprocure.com. \\r\\n8.1.1. Annexure A – Profile of Bidder\\r\\n8.1.2. Annexure B – Undertaking by Bidder\\r\\n8.1.3. Annexure C - Eligibility Criteria with Proofs\\r\\n8.1.4. Annexure D - Confidentiality / Non Disclosure Agreement\\r\\n8.1.5. Annexure E – Presentation by Bidder\\r\\n9. RFI Response\\r\\nAll submissions will become the property of Bank. Recipients shall be deemed \\r\\nto license, and grant all rights to, Bank to reproduce the whole or any portion \\r\\nof their submission for the purpose of evaluation, to disclose the contents of \\r\\nthe submission to other Recipients who have registered a submission and to \\r\\ndisclose and/or use the contents of the submission as the basis for any resulting \\r\\nRFI process, notwithstanding any copyright or other intellectual property right \\r\\nthat may subsist in the submission or Banking documents.\\r\\nBid properly documented should be uploaded online at the e-procurement site \\r\\nhttps://ubi.abcprocure.com at stipulated date & time mentioned in the RFI.\\r\\n10. Confidentiality\\r\\nThe bidder must undertake that they shall hold in trust any Information\\r\\nreceived by them, under the Contract/Agreement, and the strictest of\\r\\nconfidence shall be maintained in respect of such Information. The bidder has\\r\\nalso to agree:\\r\\n10.1. To maintain and use the Information only for the purposes of the\\r\\nContract/Agreement and only as permitted by the BANK;\\r\\n10.2. To only make copies as specifically authorized by the prior written consent \\r\\nof the Bank and with the same confidential or proprietary notices as may \\r\\nbe printed or displayed on the original\\n')]\n",
      "3\n"
     ]
    }
   ],
   "source": [
    "result = vs_chunks.search(query=\"What are the modes of submission ?\", search_type=\"similarity\", k=3,\n",
    "                          expr=\"source == '/home/ubuntu/projects/datas/rfi for cloud adoption.pdf'\")\n",
    "print(result)\n",
    "print(len(result))"
   ]
  },
  {
   "cell_type": "code",
   "execution_count": null,
   "id": "56ec197f",
   "metadata": {},
   "outputs": [],
   "source": []
  }
 ],
 "metadata": {
  "kernelspec": {
   "display_name": "ubuntu (3.12.3)",
   "language": "python",
   "name": "python3"
  },
  "language_info": {
   "codemirror_mode": {
    "name": "ipython",
    "version": 3
   },
   "file_extension": ".py",
   "mimetype": "text/x-python",
   "name": "python",
   "nbconvert_exporter": "python",
   "pygments_lexer": "ipython3",
   "version": "3.12.3"
  }
 },
 "nbformat": 4,
 "nbformat_minor": 5
}
